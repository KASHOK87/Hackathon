{
 "cells": [
  {
   "cell_type": "markdown",
   "metadata": {},
   "source": [
    "# Reading DataSets"
   ]
  },
  {
   "cell_type": "code",
   "execution_count": 96,
   "metadata": {},
   "outputs": [],
   "source": [
    "import pandas as pd\n",
    "import matplotlib.pyplot as plt\n",
    "import seaborn as sns"
   ]
  },
  {
   "cell_type": "code",
   "execution_count": 3,
   "metadata": {},
   "outputs": [
    {
     "name": "stderr",
     "output_type": "stream",
     "text": [
      "C:\\Users\\DELL\\anaconda3\\lib\\site-packages\\IPython\\core\\interactiveshell.py:3063: DtypeWarning: Columns (8) have mixed types.Specify dtype option on import or set low_memory=False.\n",
      "  interactivity=interactivity, compiler=compiler, result=result)\n"
     ]
    },
    {
     "data": {
      "text/html": [
       "<div>\n",
       "<style scoped>\n",
       "    .dataframe tbody tr th:only-of-type {\n",
       "        vertical-align: middle;\n",
       "    }\n",
       "\n",
       "    .dataframe tbody tr th {\n",
       "        vertical-align: top;\n",
       "    }\n",
       "\n",
       "    .dataframe thead th {\n",
       "        text-align: right;\n",
       "    }\n",
       "</style>\n",
       "<table border=\"1\" class=\"dataframe\">\n",
       "  <thead>\n",
       "    <tr style=\"text-align: right;\">\n",
       "      <th></th>\n",
       "      <th>Case_Type</th>\n",
       "      <th>People_Total_Tested_Count</th>\n",
       "      <th>Cases</th>\n",
       "      <th>Difference</th>\n",
       "      <th>Date</th>\n",
       "      <th>Combined_Key</th>\n",
       "      <th>Country_Region</th>\n",
       "      <th>Province_State</th>\n",
       "      <th>Admin2</th>\n",
       "      <th>iso2</th>\n",
       "      <th>iso3</th>\n",
       "      <th>FIPS</th>\n",
       "      <th>Lat</th>\n",
       "      <th>Long</th>\n",
       "      <th>Population_Count</th>\n",
       "      <th>People_Hospitalized_Cumulative_Count</th>\n",
       "      <th>Data_Source</th>\n",
       "      <th>Prep_Flow_Runtime</th>\n",
       "    </tr>\n",
       "  </thead>\n",
       "  <tbody>\n",
       "    <tr>\n",
       "      <th>0</th>\n",
       "      <td>Confirmed</td>\n",
       "      <td>NaN</td>\n",
       "      <td>0</td>\n",
       "      <td>0</td>\n",
       "      <td>2/3/2020</td>\n",
       "      <td>Switzerland</td>\n",
       "      <td>Switzerland</td>\n",
       "      <td>NaN</td>\n",
       "      <td>NaN</td>\n",
       "      <td>CH</td>\n",
       "      <td>CHE</td>\n",
       "      <td>NaN</td>\n",
       "      <td>46.8182</td>\n",
       "      <td>8.2275</td>\n",
       "      <td>8654618.0</td>\n",
       "      <td>NaN</td>\n",
       "      <td>2019 Novel Coronavirus COVID-19 (2019-nCoV) Da...</td>\n",
       "      <td>5/2/2020 11:35:41 PM</td>\n",
       "    </tr>\n",
       "    <tr>\n",
       "      <th>1</th>\n",
       "      <td>Deaths</td>\n",
       "      <td>NaN</td>\n",
       "      <td>0</td>\n",
       "      <td>0</td>\n",
       "      <td>3/1/2020</td>\n",
       "      <td>Cyprus</td>\n",
       "      <td>Cyprus</td>\n",
       "      <td>NaN</td>\n",
       "      <td>NaN</td>\n",
       "      <td>CY</td>\n",
       "      <td>CYP</td>\n",
       "      <td>NaN</td>\n",
       "      <td>35.1264</td>\n",
       "      <td>33.4299</td>\n",
       "      <td>1207361.0</td>\n",
       "      <td>NaN</td>\n",
       "      <td>2019 Novel Coronavirus COVID-19 (2019-nCoV) Da...</td>\n",
       "      <td>5/2/2020 11:35:41 PM</td>\n",
       "    </tr>\n",
       "    <tr>\n",
       "      <th>2</th>\n",
       "      <td>Confirmed</td>\n",
       "      <td>NaN</td>\n",
       "      <td>23</td>\n",
       "      <td>0</td>\n",
       "      <td>4/21/2020</td>\n",
       "      <td>Antigua and Barbuda</td>\n",
       "      <td>Antigua and Barbuda</td>\n",
       "      <td>NaN</td>\n",
       "      <td>NaN</td>\n",
       "      <td>AG</td>\n",
       "      <td>ATG</td>\n",
       "      <td>NaN</td>\n",
       "      <td>17.0608</td>\n",
       "      <td>-61.7964</td>\n",
       "      <td>97928.0</td>\n",
       "      <td>NaN</td>\n",
       "      <td>2019 Novel Coronavirus COVID-19 (2019-nCoV) Da...</td>\n",
       "      <td>5/2/2020 11:35:41 PM</td>\n",
       "    </tr>\n",
       "    <tr>\n",
       "      <th>3</th>\n",
       "      <td>Deaths</td>\n",
       "      <td>NaN</td>\n",
       "      <td>0</td>\n",
       "      <td>0</td>\n",
       "      <td>2/11/2020</td>\n",
       "      <td>Jamaica</td>\n",
       "      <td>Jamaica</td>\n",
       "      <td>NaN</td>\n",
       "      <td>NaN</td>\n",
       "      <td>JM</td>\n",
       "      <td>JAM</td>\n",
       "      <td>NaN</td>\n",
       "      <td>18.1096</td>\n",
       "      <td>-77.2975</td>\n",
       "      <td>2961161.0</td>\n",
       "      <td>NaN</td>\n",
       "      <td>2019 Novel Coronavirus COVID-19 (2019-nCoV) Da...</td>\n",
       "      <td>5/2/2020 11:35:41 PM</td>\n",
       "    </tr>\n",
       "    <tr>\n",
       "      <th>4</th>\n",
       "      <td>Confirmed</td>\n",
       "      <td>NaN</td>\n",
       "      <td>0</td>\n",
       "      <td>0</td>\n",
       "      <td>2/6/2020</td>\n",
       "      <td>Belize</td>\n",
       "      <td>Belize</td>\n",
       "      <td>NaN</td>\n",
       "      <td>NaN</td>\n",
       "      <td>BZ</td>\n",
       "      <td>BLZ</td>\n",
       "      <td>NaN</td>\n",
       "      <td>17.1899</td>\n",
       "      <td>-88.4976</td>\n",
       "      <td>397621.0</td>\n",
       "      <td>NaN</td>\n",
       "      <td>2019 Novel Coronavirus COVID-19 (2019-nCoV) Da...</td>\n",
       "      <td>5/2/2020 11:35:41 PM</td>\n",
       "    </tr>\n",
       "  </tbody>\n",
       "</table>\n",
       "</div>"
      ],
      "text/plain": [
       "   Case_Type  People_Total_Tested_Count  Cases  Difference       Date  \\\n",
       "0  Confirmed                        NaN      0           0   2/3/2020   \n",
       "1     Deaths                        NaN      0           0   3/1/2020   \n",
       "2  Confirmed                        NaN     23           0  4/21/2020   \n",
       "3     Deaths                        NaN      0           0  2/11/2020   \n",
       "4  Confirmed                        NaN      0           0   2/6/2020   \n",
       "\n",
       "          Combined_Key       Country_Region Province_State Admin2 iso2 iso3  \\\n",
       "0          Switzerland          Switzerland            NaN    NaN   CH  CHE   \n",
       "1               Cyprus               Cyprus            NaN    NaN   CY  CYP   \n",
       "2  Antigua and Barbuda  Antigua and Barbuda            NaN    NaN   AG  ATG   \n",
       "3              Jamaica              Jamaica            NaN    NaN   JM  JAM   \n",
       "4               Belize               Belize            NaN    NaN   BZ  BLZ   \n",
       "\n",
       "   FIPS      Lat     Long  Population_Count  \\\n",
       "0   NaN  46.8182   8.2275         8654618.0   \n",
       "1   NaN  35.1264  33.4299         1207361.0   \n",
       "2   NaN  17.0608 -61.7964           97928.0   \n",
       "3   NaN  18.1096 -77.2975         2961161.0   \n",
       "4   NaN  17.1899 -88.4976          397621.0   \n",
       "\n",
       "   People_Hospitalized_Cumulative_Count  \\\n",
       "0                                   NaN   \n",
       "1                                   NaN   \n",
       "2                                   NaN   \n",
       "3                                   NaN   \n",
       "4                                   NaN   \n",
       "\n",
       "                                         Data_Source     Prep_Flow_Runtime  \n",
       "0  2019 Novel Coronavirus COVID-19 (2019-nCoV) Da...  5/2/2020 11:35:41 PM  \n",
       "1  2019 Novel Coronavirus COVID-19 (2019-nCoV) Da...  5/2/2020 11:35:41 PM  \n",
       "2  2019 Novel Coronavirus COVID-19 (2019-nCoV) Da...  5/2/2020 11:35:41 PM  \n",
       "3  2019 Novel Coronavirus COVID-19 (2019-nCoV) Da...  5/2/2020 11:35:41 PM  \n",
       "4  2019 Novel Coronavirus COVID-19 (2019-nCoV) Da...  5/2/2020 11:35:41 PM  "
      ]
     },
     "execution_count": 3,
     "metadata": {},
     "output_type": "execute_result"
    }
   ],
   "source": [
    "df=pd.read_csv(\"E:\\\\Hackathon\\\\COVID-19 Cases.csv\")\n",
    "df.head()"
   ]
  },
  {
   "cell_type": "code",
   "execution_count": 4,
   "metadata": {},
   "outputs": [
    {
     "data": {
      "text/plain": [
       "Case_Type                                object\n",
       "People_Total_Tested_Count               float64\n",
       "Cases                                     int64\n",
       "Difference                                int64\n",
       "Date                                     object\n",
       "Combined_Key                             object\n",
       "Country_Region                           object\n",
       "Province_State                           object\n",
       "Admin2                                   object\n",
       "iso2                                     object\n",
       "iso3                                     object\n",
       "FIPS                                    float64\n",
       "Lat                                     float64\n",
       "Long                                    float64\n",
       "Population_Count                        float64\n",
       "People_Hospitalized_Cumulative_Count    float64\n",
       "Data_Source                              object\n",
       "Prep_Flow_Runtime                        object\n",
       "dtype: object"
      ]
     },
     "execution_count": 4,
     "metadata": {},
     "output_type": "execute_result"
    }
   ],
   "source": [
    "df.dtypes"
   ]
  },
  {
   "cell_type": "markdown",
   "metadata": {},
   "source": [
    "# Data Cleansing"
   ]
  },
  {
   "cell_type": "code",
   "execution_count": 86,
   "metadata": {},
   "outputs": [],
   "source": [
    "df.drop(columns=['Admin2','iso2','iso3','FIPS','Data_Source','Prep_Flow_Runtime'],inplace=True)"
   ]
  },
  {
   "cell_type": "code",
   "execution_count": 87,
   "metadata": {},
   "outputs": [],
   "source": [
    "df['Date']=df['Date'].astype('datetime64')"
   ]
  },
  {
   "cell_type": "code",
   "execution_count": 89,
   "metadata": {},
   "outputs": [
    {
     "data": {
      "text/plain": [
       "Case_Type                                       object\n",
       "People_Total_Tested_Count                      float64\n",
       "Cases                                            int64\n",
       "Difference                                       int64\n",
       "Date                                    datetime64[ns]\n",
       "Combined_Key                                    object\n",
       "Country_Region                                  object\n",
       "Province_State                                  object\n",
       "Lat                                            float64\n",
       "Long                                           float64\n",
       "Population_Count                               float64\n",
       "People_Hospitalized_Cumulative_Count           float64\n",
       "dtype: object"
      ]
     },
     "execution_count": 89,
     "metadata": {},
     "output_type": "execute_result"
    }
   ],
   "source": [
    "df.dtypes"
   ]
  },
  {
   "cell_type": "code",
   "execution_count": 90,
   "metadata": {},
   "outputs": [
    {
     "data": {
      "text/plain": [
       "Case_Type                                    0\n",
       "People_Total_Tested_Count               715728\n",
       "Cases                                        0\n",
       "Difference                                   0\n",
       "Date                                         0\n",
       "Combined_Key                                 0\n",
       "Country_Region                               0\n",
       "Province_State                           37128\n",
       "Lat                                      21420\n",
       "Long                                     21420\n",
       "Population_Count                         21420\n",
       "People_Hospitalized_Cumulative_Count    715728\n",
       "dtype: int64"
      ]
     },
     "execution_count": 90,
     "metadata": {},
     "output_type": "execute_result"
    }
   ],
   "source": [
    "df.isna().sum()"
   ]
  },
  {
   "cell_type": "markdown",
   "metadata": {},
   "source": [
    "    Lets consider the columns \"Case_Type,Cases,Differences,Date,Country_Region\" for our analysis"
   ]
  },
  {
   "cell_type": "markdown",
   "metadata": {},
   "source": [
    "# Dimensionality Reduction"
   ]
  },
  {
   "cell_type": "code",
   "execution_count": 91,
   "metadata": {},
   "outputs": [],
   "source": [
    "\n",
    "df_rolled_up=df.groupby(['Country_Region','Date','Case_Type']).agg({'People_Total_Tested_Count':'sum','Cases':'sum','Difference':'sum','Population_Count':'sum'}).reset_index()"
   ]
  },
  {
   "cell_type": "code",
   "execution_count": 92,
   "metadata": {},
   "outputs": [],
   "source": [
    "Current_Date = df['Date'].max()"
   ]
  },
  {
   "cell_type": "code",
   "execution_count": 93,
   "metadata": {},
   "outputs": [
    {
     "data": {
      "text/html": [
       "<div>\n",
       "<style scoped>\n",
       "    .dataframe tbody tr th:only-of-type {\n",
       "        vertical-align: middle;\n",
       "    }\n",
       "\n",
       "    .dataframe tbody tr th {\n",
       "        vertical-align: top;\n",
       "    }\n",
       "\n",
       "    .dataframe thead th {\n",
       "        text-align: right;\n",
       "    }\n",
       "</style>\n",
       "<table border=\"1\" class=\"dataframe\">\n",
       "  <thead>\n",
       "    <tr style=\"text-align: right;\">\n",
       "      <th></th>\n",
       "      <th>Country_Region</th>\n",
       "      <th>Date</th>\n",
       "      <th>Case_Type</th>\n",
       "      <th>People_Total_Tested_Count</th>\n",
       "      <th>Cases</th>\n",
       "      <th>Difference</th>\n",
       "      <th>Population_Count</th>\n",
       "    </tr>\n",
       "  </thead>\n",
       "  <tbody>\n",
       "    <tr>\n",
       "      <th>202</th>\n",
       "      <td>Afghanistan</td>\n",
       "      <td>2020-05-02</td>\n",
       "      <td>Confirmed</td>\n",
       "      <td>0.0</td>\n",
       "      <td>2469</td>\n",
       "      <td>134</td>\n",
       "      <td>38928341.0</td>\n",
       "    </tr>\n",
       "    <tr>\n",
       "      <th>203</th>\n",
       "      <td>Afghanistan</td>\n",
       "      <td>2020-05-02</td>\n",
       "      <td>Deaths</td>\n",
       "      <td>0.0</td>\n",
       "      <td>72</td>\n",
       "      <td>4</td>\n",
       "      <td>38928341.0</td>\n",
       "    </tr>\n",
       "    <tr>\n",
       "      <th>406</th>\n",
       "      <td>Albania</td>\n",
       "      <td>2020-05-02</td>\n",
       "      <td>Confirmed</td>\n",
       "      <td>0.0</td>\n",
       "      <td>789</td>\n",
       "      <td>7</td>\n",
       "      <td>2877800.0</td>\n",
       "    </tr>\n",
       "    <tr>\n",
       "      <th>407</th>\n",
       "      <td>Albania</td>\n",
       "      <td>2020-05-02</td>\n",
       "      <td>Deaths</td>\n",
       "      <td>0.0</td>\n",
       "      <td>31</td>\n",
       "      <td>0</td>\n",
       "      <td>2877800.0</td>\n",
       "    </tr>\n",
       "    <tr>\n",
       "      <th>610</th>\n",
       "      <td>Algeria</td>\n",
       "      <td>2020-05-02</td>\n",
       "      <td>Confirmed</td>\n",
       "      <td>0.0</td>\n",
       "      <td>4295</td>\n",
       "      <td>141</td>\n",
       "      <td>43851043.0</td>\n",
       "    </tr>\n",
       "    <tr>\n",
       "      <th>...</th>\n",
       "      <td>...</td>\n",
       "      <td>...</td>\n",
       "      <td>...</td>\n",
       "      <td>...</td>\n",
       "      <td>...</td>\n",
       "      <td>...</td>\n",
       "      <td>...</td>\n",
       "    </tr>\n",
       "    <tr>\n",
       "      <th>37535</th>\n",
       "      <td>Yemen</td>\n",
       "      <td>2020-05-02</td>\n",
       "      <td>Deaths</td>\n",
       "      <td>0.0</td>\n",
       "      <td>2</td>\n",
       "      <td>0</td>\n",
       "      <td>29825968.0</td>\n",
       "    </tr>\n",
       "    <tr>\n",
       "      <th>37738</th>\n",
       "      <td>Zambia</td>\n",
       "      <td>2020-05-02</td>\n",
       "      <td>Confirmed</td>\n",
       "      <td>0.0</td>\n",
       "      <td>119</td>\n",
       "      <td>10</td>\n",
       "      <td>18383956.0</td>\n",
       "    </tr>\n",
       "    <tr>\n",
       "      <th>37739</th>\n",
       "      <td>Zambia</td>\n",
       "      <td>2020-05-02</td>\n",
       "      <td>Deaths</td>\n",
       "      <td>0.0</td>\n",
       "      <td>3</td>\n",
       "      <td>0</td>\n",
       "      <td>18383956.0</td>\n",
       "    </tr>\n",
       "    <tr>\n",
       "      <th>37942</th>\n",
       "      <td>Zimbabwe</td>\n",
       "      <td>2020-05-02</td>\n",
       "      <td>Confirmed</td>\n",
       "      <td>0.0</td>\n",
       "      <td>34</td>\n",
       "      <td>-6</td>\n",
       "      <td>14862927.0</td>\n",
       "    </tr>\n",
       "    <tr>\n",
       "      <th>37943</th>\n",
       "      <td>Zimbabwe</td>\n",
       "      <td>2020-05-02</td>\n",
       "      <td>Deaths</td>\n",
       "      <td>0.0</td>\n",
       "      <td>4</td>\n",
       "      <td>0</td>\n",
       "      <td>14862927.0</td>\n",
       "    </tr>\n",
       "  </tbody>\n",
       "</table>\n",
       "<p>372 rows × 7 columns</p>\n",
       "</div>"
      ],
      "text/plain": [
       "      Country_Region       Date  Case_Type  People_Total_Tested_Count  Cases  \\\n",
       "202      Afghanistan 2020-05-02  Confirmed                        0.0   2469   \n",
       "203      Afghanistan 2020-05-02     Deaths                        0.0     72   \n",
       "406          Albania 2020-05-02  Confirmed                        0.0    789   \n",
       "407          Albania 2020-05-02     Deaths                        0.0     31   \n",
       "610          Algeria 2020-05-02  Confirmed                        0.0   4295   \n",
       "...              ...        ...        ...                        ...    ...   \n",
       "37535          Yemen 2020-05-02     Deaths                        0.0      2   \n",
       "37738         Zambia 2020-05-02  Confirmed                        0.0    119   \n",
       "37739         Zambia 2020-05-02     Deaths                        0.0      3   \n",
       "37942       Zimbabwe 2020-05-02  Confirmed                        0.0     34   \n",
       "37943       Zimbabwe 2020-05-02     Deaths                        0.0      4   \n",
       "\n",
       "       Difference  Population_Count  \n",
       "202           134        38928341.0  \n",
       "203             4        38928341.0  \n",
       "406             7         2877800.0  \n",
       "407             0         2877800.0  \n",
       "610           141        43851043.0  \n",
       "...           ...               ...  \n",
       "37535           0        29825968.0  \n",
       "37738          10        18383956.0  \n",
       "37739           0        18383956.0  \n",
       "37942          -6        14862927.0  \n",
       "37943           0        14862927.0  \n",
       "\n",
       "[372 rows x 7 columns]"
      ]
     },
     "execution_count": 93,
     "metadata": {},
     "output_type": "execute_result"
    }
   ],
   "source": [
    "df_rolled_up.query('Date == @Current_Date')"
   ]
  },
  {
   "cell_type": "markdown",
   "metadata": {},
   "source": [
    "# Visualization"
   ]
  },
  {
   "cell_type": "code",
   "execution_count": 94,
   "metadata": {},
   "outputs": [
    {
     "data": {
      "text/plain": [
       "Text(0.5, 0, 'Country')"
      ]
     },
     "execution_count": 94,
     "metadata": {},
     "output_type": "execute_result"
    },
    {
     "data": {
      "image/png": "[encoded data removed]",
      "text/plain": [
       "<Figure size 432x288 with 1 Axes>"
      ]
     },
     "metadata": {
      "needs_background": "light"
     },
     "output_type": "display_data"
    }
   ],
   "source": [
    "df_rolled_up.query('Date == @Current_Date and Case_Type==\"Confirmed\"').sort_values('Cases',ascending=False).head(10).plot(kind=\"bar\",x='Country_Region',y='Cases',\n",
    "rot=45)\n",
    "plt.title(f\"Top 10 Countries by total  confirmed cases on {Current_Date}\")\n",
    "plt.xlabel('Country')"
   ]
  },
  {
   "cell_type": "markdown",
   "metadata": {},
   "source": [
    "Lets see how cases trend in US daily"
   ]
  },
  {
   "cell_type": "code",
   "execution_count": 95,
   "metadata": {},
   "outputs": [
    {
     "data": {
      "text/plain": [
       "Text(0.5, 0, 'Period')"
      ]
     },
     "execution_count": 95,
     "metadata": {},
     "output_type": "execute_result"
    },
    {
     "data": {
      "image/png": "[encoded data removed]",
      "text/plain": [
       "<Figure size 432x288 with 1 Axes>"
      ]
     },
     "metadata": {
      "needs_background": "light"
     },
     "output_type": "display_data"
    }
   ],
   "source": [
    "df_rolled_up.query('Case_Type==\"Confirmed\" and Country_Region==\"US\"').sort_values('Date').plot(kind=\"line\",x='Date',y='Difference',\n",
    "rot=45,label='New Cases',color='red')\n",
    "plt.title(f\"Daily Trend over New Cases in US\")\n",
    "plt.xlabel('Period')"
   ]
  },
  {
   "cell_type": "code",
   "execution_count": 84,
   "metadata": {},
   "outputs": [
    {
     "data": {
      "text/plain": [
       "<matplotlib.axes._subplots.AxesSubplot at 0x15373c48>"
      ]
     },
     "execution_count": 84,
     "metadata": {},
     "output_type": "execute_result"
    },
    {
     "data": {
      "image/png": "[encoded data removed]",
      "text/plain": [
       "<Figure size 432x288 with 1 Axes>"
      ]
     },
     "metadata": {
      "needs_background": "light"
     },
     "output_type": "display_data"
    }
   ],
   "source": [
    "df_rolled_up.query('Case_Type==\"Confirmed\" and Country_Region==\"India\"').sort_values('Date').plot(kind=\"line\",x='Date',y='Difference',\n",
    "rot=45,title=\"Daily Trend over New Cases in India\")"
   ]
  },
  {
   "cell_type": "code",
   "execution_count": 110,
   "metadata": {},
   "outputs": [],
   "source": [
    "Ind_US = df_rolled_up.query('Case_Type==\"Confirmed\" and (Country_Region==\"India\" or Country_Region==\"US\")').sort_values('Date')"
   ]
  },
  {
   "cell_type": "code",
   "execution_count": 111,
   "metadata": {},
   "outputs": [
    {
     "data": {
      "text/plain": [
       "<matplotlib.axes._subplots.AxesSubplot at 0x1f6f8508>"
      ]
     },
     "execution_count": 111,
     "metadata": {},
     "output_type": "execute_result"
    },
    {
     "data": {
      "image/png": "[encoded data removed]",
      "text/plain": [
       "<Figure size 432x288 with 1 Axes>"
      ]
     },
     "metadata": {
      "needs_background": "light"
     },
     "output_type": "display_data"
    }
   ],
   "source": [
    "sns.lineplot(data=Ind_US,x='Date',y='Difference',legend=\"brief\")"
   ]
  },
  {
   "cell_type": "code",
   "execution_count": null,
   "metadata": {},
   "outputs": [],
   "source": []
  }
 ],
 "metadata": {
  "kernelspec": {
   "display_name": "Python 3",
   "language": "python",
   "name": "python3"
  },
  "language_info": {
   "codemirror_mode": {
    "name": "ipython",
    "version": 3
   },
   "file_extension": ".py",
   "mimetype": "text/x-python",
   "name": "python",
   "nbconvert_exporter": "python",
   "pygments_lexer": "ipython3",
   "version": "3.7.6"
  }
 },
 "nbformat": 4,
 "nbformat_minor": 4
}
